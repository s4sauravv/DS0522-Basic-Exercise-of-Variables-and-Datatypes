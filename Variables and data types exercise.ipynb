{
 "cells": [
  {
   "cell_type": "code",
   "execution_count": 1,
   "id": "4539fed5",
   "metadata": {},
   "outputs": [],
   "source": [
    "#Hey,,\n",
    "#There are some Exercise from Basic Python.\n",
    "#We are solving by chapters .\n",
    "#Chapter 2= Variables and  data types\n",
    "#Practice Set\n"
   ]
  },
  {
   "cell_type": "code",
   "execution_count": 2,
   "id": "8194c70c",
   "metadata": {},
   "outputs": [
    {
     "name": "stdout",
     "output_type": "stream",
     "text": [
      "30\n"
     ]
    }
   ],
   "source": [
    "# 1 -Write a pyhton program to add two numbers.\n",
    "#solutiom\n",
    "a=10\n",
    "b=20\n",
    "print(a+b)\n"
   ]
  },
  {
   "cell_type": "code",
   "execution_count": 14,
   "id": "55db67d0",
   "metadata": {},
   "outputs": [
    {
     "name": "stdout",
     "output_type": "stream",
     "text": [
      "the remained is  0\n"
     ]
    }
   ],
   "source": [
    "# 2- Write python program to find the remainder when number is z(integer)\n",
    "#solution\n",
    "a=25\n",
    "b=5\n",
    "print(\"the remained is \",a%b)\n"
   ]
  },
  {
   "cell_type": "code",
   "execution_count": 16,
   "id": "e20a99f2",
   "metadata": {},
   "outputs": [
    {
     "name": "stdout",
     "output_type": "stream",
     "text": [
      "enter an integer12\n"
     ]
    },
    {
     "data": {
      "text/plain": [
       "str"
      ]
     },
     "execution_count": 16,
     "metadata": {},
     "output_type": "execute_result"
    }
   ],
   "source": [
    "#3- Check the type of variable assigned using input()fucntion.\n",
    "#solutin=\n",
    "a=input(\"enter an integer\")\n",
    "type(a)\n",
    "\n"
   ]
  },
  {
   "cell_type": "code",
   "execution_count": 19,
   "id": "58742b2b",
   "metadata": {},
   "outputs": [
    {
     "name": "stdout",
     "output_type": "stream",
     "text": [
      "Enter an integer12\n",
      "this is a integer 12\n"
     ]
    }
   ],
   "source": [
    "#we have to convert in integer\n",
    "a=input(\"Enter an integer\")\n",
    "a=int(a)\n",
    "print('this is a integer',a)"
   ]
  },
  {
   "cell_type": "code",
   "execution_count": 23,
   "id": "b36e786f",
   "metadata": {},
   "outputs": [],
   "source": [
    "# 4 - Use a comparision Operator to find out where a given variable is \"a\" greater than \"b\" or not (Take A=34 and B=80)\n",
    "#Solution=\n",
    " \n",
    "a=34\n",
    "b=80\n",
    "    \n"
   ]
  },
  {
   "cell_type": "code",
   "execution_count": 24,
   "id": "4cd39c72",
   "metadata": {},
   "outputs": [
    {
     "data": {
      "text/plain": [
       "False"
      ]
     },
     "execution_count": 24,
     "metadata": {},
     "output_type": "execute_result"
    }
   ],
   "source": [
    "a>b"
   ]
  },
  {
   "cell_type": "code",
   "execution_count": 30,
   "id": "67c792dd",
   "metadata": {},
   "outputs": [
    {
     "name": "stdout",
     "output_type": "stream",
     "text": [
      "Enter first number36\n",
      "Enter second number6\n",
      "The average number of a and b is 21.0\n"
     ]
    }
   ],
   "source": [
    "#5-write a python program to find the average of two numbers entered by the user.\n",
    "\n",
    "#Solution-\n",
    "a=input('Enter first number')\n",
    "b=input('Enter second number')\n",
    "a=int(a)\n",
    "b=int(b)\n",
    "print(\"The average number of a and b is\", (a+b)/2)"
   ]
  },
  {
   "cell_type": "code",
   "execution_count": 31,
   "id": "7eb6dd1d",
   "metadata": {},
   "outputs": [
    {
     "name": "stdout",
     "output_type": "stream",
     "text": [
      "Enter the number which one you want to sqare8\n",
      "The Sqaure of your number is  64\n"
     ]
    }
   ],
   "source": [
    "#6= Write a python program to calculate the sqaure of a number entered by a user.\n",
    "#Solution\n",
    "\n",
    "a=input(\"Enter the number which one you want to sqare\")\n",
    "\n",
    "a=int(a)\n",
    "print(\"The Sqaure of your number is \",a*a)"
   ]
  },
  {
   "cell_type": "code",
   "execution_count": null,
   "id": "d342325c",
   "metadata": {},
   "outputs": [],
   "source": [
    "#Student of DataTrained - Saurav\n",
    "#Basic Exercise"
   ]
  }
 ],
 "metadata": {
  "kernelspec": {
   "display_name": "Python 3 (ipykernel)",
   "language": "python",
   "name": "python3"
  },
  "language_info": {
   "codemirror_mode": {
    "name": "ipython",
    "version": 3
   },
   "file_extension": ".py",
   "mimetype": "text/x-python",
   "name": "python",
   "nbconvert_exporter": "python",
   "pygments_lexer": "ipython3",
   "version": "3.9.12"
  }
 },
 "nbformat": 4,
 "nbformat_minor": 5
}
